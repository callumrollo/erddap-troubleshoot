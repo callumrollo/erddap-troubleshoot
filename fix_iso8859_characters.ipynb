{
 "cells": [
  {
   "cell_type": "markdown",
   "id": "80ff15e5-fbb6-4a7a-b104-88d24c56943c",
   "metadata": {},
   "source": [
    "# Fix bad ISO8859 characters on ERDDAP\n",
    "\n",
    "ERDDAP encodes ISO8859 extended latin characters in a strange way (à  á  â  ã  ä  å  æ  ç  è  é  ê  ë  ì  etc.) I wrote a Python function to fix this on the user side.\n",
    "\n",
    "It also renders them incorrectly on the ERDDAP page itself though, so this is more of a workaround than a real fix."
   ]
  },
  {
   "cell_type": "markdown",
   "id": "8366d52e-8491-4e3c-a1ab-c19bf1aeee64",
   "metadata": {},
   "source": [
    "### 1. Generate a list of ISO8859 characters\n",
    "\n",
    "We skip the rows 0, 1, 8 and 9 as they are empty in the specification.\n",
    "\n",
    "We also skip the ; character so we can use it as a seperator in our ERDDAP csv file without causing confusion.\n",
    "\n",
    "This generates a string of key:value pairs where the key is the code point in hexadecimal notation and the value is the character that that codepoint encodes."
   ]
  },
  {
   "cell_type": "code",
   "execution_count": 1,
   "id": "bd78db10-43eb-48b1-801d-42f9ff27f3bd",
   "metadata": {},
   "outputs": [
    {
     "name": "stdout",
     "output_type": "stream",
     "text": [
      "0x20:  , 0x21: !, 0x22: \", 0x23: #, 0x24: $, 0x25: %, 0x26: &, 0x27: ', 0x28: (, 0x29: ), 0x2a: *, 0x2b: +, 0x2c: ,, 0x2d: -, 0x2e: ., 0x2f: /, 0x30: 0, 0x31: 1, 0x32: 2, 0x33: 3, 0x34: 4, 0x35: 5, 0x36: 6, 0x37: 7, 0x38: 8, 0x39: 9, 0x3a: :, 0x3c: <, 0x3d: =, 0x3e: >, 0x3f: ?, 0x40: @, 0x41: A, 0x42: B, 0x43: C, 0x44: D, 0x45: E, 0x46: F, 0x47: G, 0x48: H, 0x49: I, 0x4a: J, 0x4b: K, 0x4c: L, 0x4d: M, 0x4e: N, 0x4f: O, 0x50: P, 0x51: Q, 0x52: R, 0x53: S, 0x54: T, 0x55: U, 0x56: V, 0x57: W, 0x58: X, 0x59: Y, 0x5a: Z, 0x5b: [, 0x5c: \\, 0x5d: ], 0x5e: ^, 0x5f: _, 0x60: `, 0x61: a, 0x62: b, 0x63: c, 0x64: d, 0x65: e, 0x66: f, 0x67: g, 0x68: h, 0x69: i, 0x6a: j, 0x6b: k, 0x6c: l, 0x6d: m, 0x6e: n, 0x6f: o, 0x70: p, 0x71: q, 0x72: r, 0x73: s, 0x74: t, 0x75: u, 0x76: v, 0x77: w, 0x78: x, 0x79: y, 0x7a: z, 0x7b: {, 0x7c: |, 0x7d: }, 0x7e: ~, 0x7f: , 0xa0:  , 0xa1: ¡, 0xa2: ¢, 0xa3: £, 0xa4: ¤, 0xa5: ¥, 0xa6: ¦, 0xa7: §, 0xa8: ¨, 0xa9: ©, 0xaa: ª, 0xab: «, 0xac: ¬, 0xad: ­, 0xae: ®, 0xaf: ¯, 0xb0: °, 0xb1: ±, 0xb2: ², 0xb3: ³, 0xb4: ´, 0xb5: µ, 0xb6: ¶, 0xb7: ·, 0xb8: ¸, 0xb9: ¹, 0xba: º, 0xbb: », 0xbc: ¼, 0xbd: ½, 0xbe: ¾, 0xbf: ¿, 0xc0: À, 0xc1: Á, 0xc2: Â, 0xc3: Ã, 0xc4: Ä, 0xc5: Å, 0xc6: Æ, 0xc7: Ç, 0xc8: È, 0xc9: É, 0xca: Ê, 0xcb: Ë, 0xcc: Ì, 0xcd: Í, 0xce: Î, 0xcf: Ï, 0xd0: Ð, 0xd1: Ñ, 0xd2: Ò, 0xd3: Ó, 0xd4: Ô, 0xd5: Õ, 0xd6: Ö, 0xd7: ×, 0xd8: Ø, 0xd9: Ù, 0xda: Ú, 0xdb: Û, 0xdc: Ü, 0xdd: Ý, 0xde: Þ, 0xdf: ß, 0xe0: à, 0xe1: á, 0xe2: â, 0xe3: ã, 0xe4: ä, 0xe5: å, 0xe6: æ, 0xe7: ç, 0xe8: è, 0xe9: é, 0xea: ê, 0xeb: ë, 0xec: ì, 0xed: í, 0xee: î, 0xef: ï, 0xf0: ð, 0xf1: ñ, 0xf2: ò, 0xf3: ó, 0xf4: ô, 0xf5: õ, 0xf6: ö, 0xf7: ÷, 0xf8: ø, 0xf9: ù, 0xfa: ú, 0xfb: û, 0xfc: ü, 0xfd: ý, 0xfe: þ, 0xff: ÿ\n"
     ]
    }
   ],
   "source": [
    "def make_iso_8859():\n",
    "    iso_str = \"\"\n",
    "    for a in range(16):\n",
    "        if a in [0, 1, 8, 9]:\n",
    "            continue\n",
    "        for b in range(16):\n",
    "            i = a * 16 + b\n",
    "            hex_code = hex(i)\n",
    "            char = f'\\\\{hex_code[1:]}'.encode('utf-8').decode('unicode-escape')\n",
    "            if char == ';':\n",
    "                continue\n",
    "            add_str = f\"{hex_code}: \" + char + \", \"\n",
    "            iso_str+= add_str\n",
    "    return iso_str[:-2]\n",
    "string_in = make_iso_8859()\n",
    "print(string_in)"
   ]
  },
  {
   "cell_type": "markdown",
   "id": "493ba6ea-98c1-4542-ab17-8fa2e4769c99",
   "metadata": {},
   "source": [
    "### 2. Add this data to an ERDDAP server\n",
    "\n",
    "I have hosted this on the VOTO ERDDAP server for now, if it's no longer available you can host it on your own server\n",
    "\n",
    "https://erddap.observations.voiceoftheocean.org/erddap/tabledap/experiment_characters.html"
   ]
  },
  {
   "cell_type": "markdown",
   "id": "429e58a4-38c5-4241-9f8f-dd64796400d3",
   "metadata": {},
   "source": [
    "### 3. Download the dataset from ERDDAP\n",
    "\n",
    "We can see how ERDDAP reproduces the first 8 lines of characters faithfully, then does some real weird stuff"
   ]
  },
  {
   "cell_type": "code",
   "execution_count": 2,
   "id": "239b063d-aa54-4ec4-9251-1422cd97964c",
   "metadata": {},
   "outputs": [
    {
     "data": {
      "text/plain": [
       "'0x20:  , 0x21: !, 0x22: \", 0x23: #, 0x24: $, 0x25: %, 0x26: &, 0x27: \\', 0x28: (, 0x29: ), 0x2a: *, 0x2b: +, 0x2c: ,, 0x2d: -, 0x2e: ., 0x2f: /, 0x30: 0, 0x31: 1, 0x32: 2, 0x33: 3, 0x34: 4, 0x35: 5, 0x36: 6, 0x37: 7, 0x38: 8, 0x39: 9, 0x3a: :, 0x3c: <, 0x3d: =, 0x3e: >, 0x3f: ?, 0x40: @, 0x41: A, 0x42: B, 0x43: C, 0x44: D, 0x45: E, 0x46: F, 0x47: G, 0x48: H, 0x49: I, 0x4a: J, 0x4b: K, 0x4c: L, 0x4d: M, 0x4e: N, 0x4f: O, 0x50: P, 0x51: Q, 0x52: R, 0x53: S, 0x54: T, 0x55: U, 0x56: V, 0x57: W, 0x58: X, 0x59: Y, 0x5a: Z, 0x5b: [, 0x5c: \\\\\\\\, 0x5d: ], 0x5e: ^, 0x5f: _, 0x60: `, 0x61: a, 0x62: b, 0x63: c, 0x64: d, 0x65: e, 0x66: f, 0x67: g, 0x68: h, 0x69: i, 0x6a: j, 0x6b: k, 0x6c: l, 0x6d: m, 0x6e: n, 0x6f: o, 0x70: p, 0x71: q, 0x72: r, 0x73: s, 0x74: t, 0x75: u, 0x76: v, 0x77: w, 0x78: x, 0x79: y, 0x7a: z, 0x7b: {, 0x7c: |, 0x7d: }, 0x7e: ~, 0x7f: \\\\u007f, 0xa0: \\\\u00a0, 0xa1: \\\\u00c2\\\\u00a1, 0xa2: \\\\u00c2\\\\u00a2, 0xa3: \\\\u00c2\\\\u00a3, 0xa4: \\\\u00c2\\\\u00a4, 0xa5: \\\\u00c2\\\\u00a5, 0xa6: \\\\u00c2\\\\u00a6, 0xa7: \\\\u00c2\\\\u00a7, 0xa8: \\\\u00c2\\\\u00a8, 0xa9: \\\\u00c2\\\\u00a9, 0xaa: \\\\u00c2\\\\u00aa, 0xab: \\\\u00c2\\\\u00ab, 0xac: \\\\u00c2\\\\u00ac, 0xad: \\\\u00ad, 0xae: \\\\u00c2\\\\u00ae, 0xaf: \\\\u00c2\\\\u00af, 0xb0: \\\\u00c2\\\\u00b0, 0xb1: \\\\u00c2\\\\u00b1, 0xb2: \\\\u00c2\\\\u00b2, 0xb3: \\\\u00c2\\\\u00b3, 0xb4: \\\\u00c2\\\\u00b4, 0xb5: \\\\u00c2\\\\u00b5, 0xb6: \\\\u00c2\\\\u00b6, 0xb7: \\\\u00c2\\\\u00b7, 0xb8: \\\\u00c2\\\\u00b8, 0xb9: \\\\u00c2\\\\u00b9, 0xba: \\\\u00c2\\\\u00ba, 0xbb: \\\\u00c2\\\\u00bb, 0xbc: \\\\u00c2\\\\u00bc, 0xbd: \\\\u00c2\\\\u00bd, 0xbe: \\\\u00c2\\\\u00be, 0xbf: \\\\u00c2\\\\u00bf, 0xc0: \\\\u00c3\\\\u0080, 0xc1: \\\\u00c3\\\\u0081, 0xc2: \\\\u00c3\\\\u0082, 0xc3: \\\\u00c3\\\\u0083, 0xc4: \\\\u00c3\\\\u0084, 0xc5: \\\\u00c3\\\\u0085, 0xc6: \\\\u00c3\\\\u0086, 0xc7: \\\\u00c3\\\\u0087, 0xc8: \\\\u00c3\\\\u0088, 0xc9: \\\\u00c3\\\\u0089, 0xca: \\\\u00c3\\\\u008a, 0xcb: \\\\u00c3\\\\u008b, 0xcc: \\\\u00c3\\\\u008c, 0xcd: \\\\u00c3\\\\u008d, 0xce: \\\\u00c3\\\\u008e, 0xcf: \\\\u00c3\\\\u008f, 0xd0: \\\\u00c3\\\\u0090, 0xd1: \\\\u00c3\\\\u0091, 0xd2: \\\\u00c3\\\\u0092, 0xd3: \\\\u00c3\\\\u0093, 0xd4: \\\\u00c3\\\\u0094, 0xd5: \\\\u00c3\\\\u0095, 0xd6: \\\\u00c3\\\\u0096, 0xd7: \\\\u00c3\\\\u0097, 0xd8: \\\\u00c3\\\\u0098, 0xd9: \\\\u00c3\\\\u0099, 0xda: \\\\u00c3\\\\u009a, 0xdb: \\\\u00c3\\\\u009b, 0xdc: \\\\u00c3\\\\u009c, 0xdd: \\\\u00c3\\\\u009d, 0xde: \\\\u00c3\\\\u009e, 0xdf: \\\\u00c3\\\\u009f, 0xe0: \\\\u00c3\\\\u00a0, 0xe1: \\\\u00c3\\\\u00a1, 0xe2: \\\\u00c3\\\\u00a2, 0xe3: \\\\u00c3\\\\u00a3, 0xe4: \\\\u00c3\\\\u00a4, 0xe5: \\\\u00c3\\\\u00a5, 0xe6: \\\\u00c3\\\\u00a6, 0xe7: \\\\u00c3\\\\u00a7, 0xe8: \\\\u00c3\\\\u00a8, 0xe9: \\\\u00c3\\\\u00a9, 0xea: \\\\u00c3\\\\u00aa, 0xeb: \\\\u00c3\\\\u00ab, 0xec: \\\\u00c3\\\\u00ac, 0xed: \\\\u00c3\\\\u00ad, 0xee: \\\\u00c3\\\\u00ae, 0xef: \\\\u00c3\\\\u00af, 0xf0: \\\\u00c3\\\\u00b0, 0xf1: \\\\u00c3\\\\u00b1, 0xf2: \\\\u00c3\\\\u00b2, 0xf3: \\\\u00c3\\\\u00b3, 0xf4: \\\\u00c3\\\\u00b4, 0xf5: \\\\u00c3\\\\u00b5, 0xf6: \\\\u00c3\\\\u00b6, 0xf7: \\\\u00c3\\\\u00b7, 0xf8: \\\\u00c3\\\\u00b8, 0xf9: \\\\u00c3\\\\u00b9, 0xfa: \\\\u00c3\\\\u00ba, 0xfb: \\\\u00c3\\\\u00bb, 0xfc: \\\\u00c3\\\\u00bc, 0xfd: \\\\u00c3\\\\u00bd, 0xfe: \\\\u00c3\\\\u00be, 0xff: \\\\u00c3\\\\u00bf'"
      ]
     },
     "execution_count": 2,
     "metadata": {},
     "output_type": "execute_result"
    }
   ],
   "source": [
    "import pandas as pd\n",
    "df = pd.read_csv(\"https://erddap.observations.voiceoftheocean.org/erddap/tabledap/experiment_characters.csv?characters\", sep=';')\n",
    "erddap_string = df['characters'].values[0]\n",
    "erddap_string"
   ]
  },
  {
   "cell_type": "markdown",
   "id": "a1532f24-2554-43da-9318-28d473a816d3",
   "metadata": {},
   "source": [
    "### 4. Fix the special characters \n",
    "\n",
    "I have written an ugly function that fixes this. I don't really understand it tbh but it seems to work"
   ]
  },
  {
   "cell_type": "code",
   "execution_count": 3,
   "id": "9f37e633-0502-410e-984a-e30c1ebef9ba",
   "metadata": {},
   "outputs": [
    {
     "data": {
      "text/plain": [
       "'0x20:  , 0x21: !, 0x22: \", 0x23: #, 0x24: $, 0x25: %, 0x26: &, 0x27: \\', 0x28: (, 0x29: ), 0x2a: *, 0x2b: +, 0x2c: ,, 0x2d: -, 0x2e: ., 0x2f: /, 0x30: 0, 0x31: 1, 0x32: 2, 0x33: 3, 0x34: 4, 0x35: 5, 0x36: 6, 0x37: 7, 0x38: 8, 0x39: 9, 0x3a: :, 0x3c: <, 0x3d: =, 0x3e: >, 0x3f: ?, 0x40: @, 0x41: A, 0x42: B, 0x43: C, 0x44: D, 0x45: E, 0x46: F, 0x47: G, 0x48: H, 0x49: I, 0x4a: J, 0x4b: K, 0x4c: L, 0x4d: M, 0x4e: N, 0x4f: O, 0x50: P, 0x51: Q, 0x52: R, 0x53: S, 0x54: T, 0x55: U, 0x56: V, 0x57: W, 0x58: X, 0x59: Y, 0x5a: Z, 0x5b: [, 0x5c: \\\\, 0x5d: ], 0x5e: ^, 0x5f: _, 0x60: `, 0x61: a, 0x62: b, 0x63: c, 0x64: d, 0x65: e, 0x66: f, 0x67: g, 0x68: h, 0x69: i, 0x6a: j, 0x6b: k, 0x6c: l, 0x6d: m, 0x6e: n, 0x6f: o, 0x70: p, 0x71: q, 0x72: r, 0x73: s, 0x74: t, 0x75: u, 0x76: v, 0x77: w, 0x78: x, 0x79: y, 0x7a: z, 0x7b: {, 0x7c: |, 0x7d: }, 0x7e: ~, 0x7f: \\x7f, 0xa0: \\xa0, 0xa1: ¡, 0xa2: ¢, 0xa3: £, 0xa4: ¤, 0xa5: ¥, 0xa6: ¦, 0xa7: §, 0xa8: ¨, 0xa9: ©, 0xaa: ª, 0xab: «, 0xac: ¬, 0xad: \\xad, 0xae: ®, 0xaf: ¯, 0xb0: °, 0xb1: ±, 0xb2: ², 0xb3: ³, 0xb4: ´, 0xb5: µ, 0xb6: ¶, 0xb7: ·, 0xb8: ¸, 0xb9: ¹, 0xba: º, 0xbb: », 0xbc: ¼, 0xbd: ½, 0xbe: ¾, 0xbf: ¿, 0xc0: À, 0xc1: Á, 0xc2: Â, 0xc3: Ã, 0xc4: Ä, 0xc5: Å, 0xc6: Æ, 0xc7: Ç, 0xc8: È, 0xc9: É, 0xca: Ê, 0xcb: Ë, 0xcc: Ì, 0xcd: Í, 0xce: Î, 0xcf: Ï, 0xd0: Ð, 0xd1: Ñ, 0xd2: Ò, 0xd3: Ó, 0xd4: Ô, 0xd5: Õ, 0xd6: Ö, 0xd7: ×, 0xd8: Ø, 0xd9: Ù, 0xda: Ú, 0xdb: Û, 0xdc: Ü, 0xdd: Ý, 0xde: Þ, 0xdf: ß, 0xe0: à, 0xe1: á, 0xe2: â, 0xe3: ã, 0xe4: ä, 0xe5: å, 0xe6: æ, 0xe7: ç, 0xe8: è, 0xe9: é, 0xea: ê, 0xeb: ë, 0xec: ì, 0xed: í, 0xee: î, 0xef: ï, 0xf0: ð, 0xf1: ñ, 0xf2: ò, 0xf3: ó, 0xf4: ô, 0xf5: õ, 0xf6: ö, 0xf7: ÷, 0xf8: ø, 0xf9: ù, 0xfa: ú, 0xfb: û, 0xfc: ü, 0xfd: ý, 0xfe: þ, 0xff: ÿ'"
      ]
     },
     "execution_count": 3,
     "metadata": {},
     "output_type": "execute_result"
    }
   ],
   "source": [
    "from erddap_admin_utils import fix_erddap_unicode\n",
    "fixed_string = fix_erddap_unicode(erddap_string)\n",
    "fixed_string"
   ]
  },
  {
   "cell_type": "markdown",
   "id": "37ef59bf-572d-4589-a4b7-fce02711456a",
   "metadata": {},
   "source": [
    "### 5. Check that you fixed them all\n",
    "\n",
    "We make a dataframe by splitting the input string, ERDDAP string and fixed string on ',' and comparing them row by row"
   ]
  },
  {
   "cell_type": "code",
   "execution_count": 4,
   "id": "b4ce199d-faa5-4836-be35-c3ac2daa4721",
   "metadata": {},
   "outputs": [
    {
     "data": {
      "text/html": [
       "<div>\n",
       "<style scoped>\n",
       "    .dataframe tbody tr th:only-of-type {\n",
       "        vertical-align: middle;\n",
       "    }\n",
       "\n",
       "    .dataframe tbody tr th {\n",
       "        vertical-align: top;\n",
       "    }\n",
       "\n",
       "    .dataframe thead th {\n",
       "        text-align: right;\n",
       "    }\n",
       "</style>\n",
       "<table border=\"1\" class=\"dataframe\">\n",
       "  <thead>\n",
       "    <tr style=\"text-align: right;\">\n",
       "      <th></th>\n",
       "      <th>original</th>\n",
       "      <th>erddap_raw</th>\n",
       "      <th>erddap_fixed</th>\n",
       "    </tr>\n",
       "  </thead>\n",
       "  <tbody>\n",
       "    <tr>\n",
       "      <th>0</th>\n",
       "      <td>0x20:</td>\n",
       "      <td>0x20:</td>\n",
       "      <td>0x20:</td>\n",
       "    </tr>\n",
       "    <tr>\n",
       "      <th>10</th>\n",
       "      <td>0x2a: *</td>\n",
       "      <td>0x2a: *</td>\n",
       "      <td>0x2a: *</td>\n",
       "    </tr>\n",
       "    <tr>\n",
       "      <th>20</th>\n",
       "      <td>0x33: 3</td>\n",
       "      <td>0x33: 3</td>\n",
       "      <td>0x33: 3</td>\n",
       "    </tr>\n",
       "    <tr>\n",
       "      <th>30</th>\n",
       "      <td>0x3e: &gt;</td>\n",
       "      <td>0x3e: &gt;</td>\n",
       "      <td>0x3e: &gt;</td>\n",
       "    </tr>\n",
       "    <tr>\n",
       "      <th>40</th>\n",
       "      <td>0x48: H</td>\n",
       "      <td>0x48: H</td>\n",
       "      <td>0x48: H</td>\n",
       "    </tr>\n",
       "    <tr>\n",
       "      <th>50</th>\n",
       "      <td>0x52: R</td>\n",
       "      <td>0x52: R</td>\n",
       "      <td>0x52: R</td>\n",
       "    </tr>\n",
       "    <tr>\n",
       "      <th>60</th>\n",
       "      <td>0x5c: \\</td>\n",
       "      <td>0x5c: \\\\</td>\n",
       "      <td>0x5c: \\</td>\n",
       "    </tr>\n",
       "    <tr>\n",
       "      <th>70</th>\n",
       "      <td>0x66: f</td>\n",
       "      <td>0x66: f</td>\n",
       "      <td>0x66: f</td>\n",
       "    </tr>\n",
       "    <tr>\n",
       "      <th>80</th>\n",
       "      <td>0x70: p</td>\n",
       "      <td>0x70: p</td>\n",
       "      <td>0x70: p</td>\n",
       "    </tr>\n",
       "    <tr>\n",
       "      <th>90</th>\n",
       "      <td>0x7a: z</td>\n",
       "      <td>0x7a: z</td>\n",
       "      <td>0x7a: z</td>\n",
       "    </tr>\n",
       "    <tr>\n",
       "      <th>100</th>\n",
       "      <td>0xa4: ¤</td>\n",
       "      <td>0xa4: \\u00c2\\u00a4</td>\n",
       "      <td>0xa4: ¤</td>\n",
       "    </tr>\n",
       "    <tr>\n",
       "      <th>110</th>\n",
       "      <td>0xae: ®</td>\n",
       "      <td>0xae: \\u00c2\\u00ae</td>\n",
       "      <td>0xae: ®</td>\n",
       "    </tr>\n",
       "    <tr>\n",
       "      <th>120</th>\n",
       "      <td>0xb8: ¸</td>\n",
       "      <td>0xb8: \\u00c2\\u00b8</td>\n",
       "      <td>0xb8: ¸</td>\n",
       "    </tr>\n",
       "    <tr>\n",
       "      <th>130</th>\n",
       "      <td>0xc2: Â</td>\n",
       "      <td>0xc2: \\u00c3\\u0082</td>\n",
       "      <td>0xc2: Â</td>\n",
       "    </tr>\n",
       "    <tr>\n",
       "      <th>140</th>\n",
       "      <td>0xcc: Ì</td>\n",
       "      <td>0xcc: \\u00c3\\u008c</td>\n",
       "      <td>0xcc: Ì</td>\n",
       "    </tr>\n",
       "    <tr>\n",
       "      <th>150</th>\n",
       "      <td>0xd6: Ö</td>\n",
       "      <td>0xd6: \\u00c3\\u0096</td>\n",
       "      <td>0xd6: Ö</td>\n",
       "    </tr>\n",
       "    <tr>\n",
       "      <th>160</th>\n",
       "      <td>0xe0: à</td>\n",
       "      <td>0xe0: \\u00c3\\u00a0</td>\n",
       "      <td>0xe0: à</td>\n",
       "    </tr>\n",
       "    <tr>\n",
       "      <th>170</th>\n",
       "      <td>0xea: ê</td>\n",
       "      <td>0xea: \\u00c3\\u00aa</td>\n",
       "      <td>0xea: ê</td>\n",
       "    </tr>\n",
       "    <tr>\n",
       "      <th>180</th>\n",
       "      <td>0xf4: ô</td>\n",
       "      <td>0xf4: \\u00c3\\u00b4</td>\n",
       "      <td>0xf4: ô</td>\n",
       "    </tr>\n",
       "    <tr>\n",
       "      <th>190</th>\n",
       "      <td>0xfe: þ</td>\n",
       "      <td>0xfe: \\u00c3\\u00be</td>\n",
       "      <td>0xfe: þ</td>\n",
       "    </tr>\n",
       "  </tbody>\n",
       "</table>\n",
       "</div>"
      ],
      "text/plain": [
       "     original           erddap_raw erddap_fixed\n",
       "0     0x20:                0x20:        0x20:  \n",
       "10    0x2a: *              0x2a: *      0x2a: *\n",
       "20    0x33: 3              0x33: 3      0x33: 3\n",
       "30    0x3e: >              0x3e: >      0x3e: >\n",
       "40    0x48: H              0x48: H      0x48: H\n",
       "50    0x52: R              0x52: R      0x52: R\n",
       "60    0x5c: \\             0x5c: \\\\      0x5c: \\\n",
       "70    0x66: f              0x66: f      0x66: f\n",
       "80    0x70: p              0x70: p      0x70: p\n",
       "90    0x7a: z              0x7a: z      0x7a: z\n",
       "100   0xa4: ¤   0xa4: \\u00c2\\u00a4      0xa4: ¤\n",
       "110   0xae: ®   0xae: \\u00c2\\u00ae      0xae: ®\n",
       "120   0xb8: ¸   0xb8: \\u00c2\\u00b8      0xb8: ¸\n",
       "130   0xc2: Â   0xc2: \\u00c3\\u0082      0xc2: Â\n",
       "140   0xcc: Ì   0xcc: \\u00c3\\u008c      0xcc: Ì\n",
       "150   0xd6: Ö   0xd6: \\u00c3\\u0096      0xd6: Ö\n",
       "160   0xe0: à   0xe0: \\u00c3\\u00a0      0xe0: à\n",
       "170   0xea: ê   0xea: \\u00c3\\u00aa      0xea: ê\n",
       "180   0xf4: ô   0xf4: \\u00c3\\u00b4      0xf4: ô\n",
       "190   0xfe: þ   0xfe: \\u00c3\\u00be      0xfe: þ"
      ]
     },
     "execution_count": 4,
     "metadata": {},
     "output_type": "execute_result"
    }
   ],
   "source": [
    "df_comp =  pd.DataFrame({\"original\": string_in.split(','), \"erddap_raw\": erddap_string.split(','), \"erddap_fixed\": fixed_string.split(',')})\n",
    "df_comp[::10]"
   ]
  },
  {
   "cell_type": "code",
   "execution_count": 5,
   "id": "2fef72f6-9f19-44cb-bba2-9ec2fa16c5df",
   "metadata": {},
   "outputs": [
    {
     "data": {
      "text/plain": [
       "True"
      ]
     },
     "execution_count": 5,
     "metadata": {},
     "output_type": "execute_result"
    }
   ],
   "source": [
    "(df_comp[\"original\"] == df_comp[\"erddap_fixed\"]).all()"
   ]
  }
 ],
 "metadata": {
  "kernelspec": {
   "display_name": "Python 3 (ipykernel)",
   "language": "python",
   "name": "python3"
  },
  "language_info": {
   "codemirror_mode": {
    "name": "ipython",
    "version": 3
   },
   "file_extension": ".py",
   "mimetype": "text/x-python",
   "name": "python",
   "nbconvert_exporter": "python",
   "pygments_lexer": "ipython3",
   "version": "3.11.5"
  }
 },
 "nbformat": 4,
 "nbformat_minor": 5
}
